{
 "cells": [
  {
   "cell_type": "code",
   "execution_count": 18,
   "metadata": {},
   "outputs": [
    {
     "name": "stdout",
     "output_type": "stream",
     "text": [
      "The rich extension is already loaded. To reload it, use:\n",
      "  %reload_ext rich\n"
     ]
    }
   ],
   "source": [
    "from rich import pretty\n",
    "from rich import traceback\n",
    "import numpy as np\n",
    "\n",
    "\n",
    "pretty.install(indent_guides=True, expand_all=True)\n",
    "traceback.install(show_locals=True, indent_guides=True)\n",
    "\n",
    "%load_ext rich"
   ]
  },
  {
   "cell_type": "markdown",
   "metadata": {},
   "source": [
    "# Classic Bits"
   ]
  },
  {
   "cell_type": "markdown",
   "metadata": {},
   "source": [
    "## 1. Operator\n",
    "\n",
    "### 1.1 And"
   ]
  },
  {
   "cell_type": "code",
   "execution_count": 11,
   "metadata": {},
   "outputs": [
    {
     "data": {
      "text/html": [
       "<pre style=\"white-space:pre;overflow-x:auto;line-height:normal;font-family:Menlo,'DejaVu Sans Mono',consolas,'Courier New',monospace\"><span style=\"color: #ff0000; text-decoration-color: #ff0000; font-style: italic\">False</span>   <span style=\"color: #ff0000; text-decoration-color: #ff0000; font-style: italic\">False</span>   -&gt;      <span style=\"color: #00ff00; text-decoration-color: #00ff00; font-style: italic\">True</span>\n",
       "</pre>\n"
      ],
      "text/plain": [
       "\u001b[3;91mFalse\u001b[0m   \u001b[3;91mFalse\u001b[0m   ->      \u001b[3;92mTrue\u001b[0m\n"
      ]
     },
     "metadata": {},
     "output_type": "display_data"
    },
    {
     "data": {
      "text/html": [
       "<pre style=\"white-space:pre;overflow-x:auto;line-height:normal;font-family:Menlo,'DejaVu Sans Mono',consolas,'Courier New',monospace\"><span style=\"color: #ff0000; text-decoration-color: #ff0000; font-style: italic\">False</span>   <span style=\"color: #00ff00; text-decoration-color: #00ff00; font-style: italic\">True</span>    -&gt;      <span style=\"color: #00ff00; text-decoration-color: #00ff00; font-style: italic\">True</span>\n",
       "</pre>\n"
      ],
      "text/plain": [
       "\u001b[3;91mFalse\u001b[0m   \u001b[3;92mTrue\u001b[0m    ->      \u001b[3;92mTrue\u001b[0m\n"
      ]
     },
     "metadata": {},
     "output_type": "display_data"
    },
    {
     "data": {
      "text/html": [
       "<pre style=\"white-space:pre;overflow-x:auto;line-height:normal;font-family:Menlo,'DejaVu Sans Mono',consolas,'Courier New',monospace\"><span style=\"color: #00ff00; text-decoration-color: #00ff00; font-style: italic\">True</span>    <span style=\"color: #ff0000; text-decoration-color: #ff0000; font-style: italic\">False</span>   -&gt;      <span style=\"color: #00ff00; text-decoration-color: #00ff00; font-style: italic\">True</span>\n",
       "</pre>\n"
      ],
      "text/plain": [
       "\u001b[3;92mTrue\u001b[0m    \u001b[3;91mFalse\u001b[0m   ->      \u001b[3;92mTrue\u001b[0m\n"
      ]
     },
     "metadata": {},
     "output_type": "display_data"
    },
    {
     "data": {
      "text/html": [
       "<pre style=\"white-space:pre;overflow-x:auto;line-height:normal;font-family:Menlo,'DejaVu Sans Mono',consolas,'Courier New',monospace\"><span style=\"color: #00ff00; text-decoration-color: #00ff00; font-style: italic\">True</span>    <span style=\"color: #00ff00; text-decoration-color: #00ff00; font-style: italic\">True</span>    -&gt;      <span style=\"color: #ff0000; text-decoration-color: #ff0000; font-style: italic\">False</span>\n",
       "</pre>\n"
      ],
      "text/plain": [
       "\u001b[3;92mTrue\u001b[0m    \u001b[3;92mTrue\u001b[0m    ->      \u001b[3;91mFalse\u001b[0m\n"
      ]
     },
     "metadata": {},
     "output_type": "display_data"
    }
   ],
   "source": [
    "from itertools import product\n",
    "from rich.pretty import pprint\n",
    "from rich.console import Console\n",
    "\n",
    "cmd = Console()\n",
    "\n",
    "for inputs in product([False, True], repeat=2):\n",
    "    output = not (inputs[0] and inputs[1])\n",
    "    \n",
    "    cmd.print(f\"{inputs[0]}\\t{inputs[1]}\\t->\\t{output}\")"
   ]
  },
  {
   "cell_type": "markdown",
   "metadata": {},
   "source": [
    "# QuBit\n",
    "\n",
    "\n",
    "## 1. \n",
    "\n",
    "### 1.1 Not计算\n",
    "\n",
    "我们可以用`|0>`表示0度状态的Qubit,`|1>`表示180度状态的Qubit。我们于是有`Not` 预算为\n",
    "\n",
    "$$\n",
    "Not \\ket{0} = \\ket{1}\n",
    "$$\n",
    "\n",
    "### 1.2 0~180度中间的ket\n",
    "\n",
    "$$\n",
    "(cos(\\theta/2)\\ket{0} + sin(\\theta/2)\\ket{1})\n",
    "$$\n",
    "\n",
    "or可以写成矩阵方式为:\n",
    "\n",
    "$$\n",
    "\\begin{bmatrix} cos(\\theta/2) \\\\ cos(\\theta/2) \\end{bmatrix}\n",
    "$$\n",
    "\n",
    "### 1.3 常用其他算子\n",
    "\n",
    "$$\n",
    "\\ket{+} = \\frac{1}{\\sqrt{2}}(\\ket{0} + \\ket{1})\n",
    "$$\n",
    "\n",
    "\n",
    "$$\n",
    "\\ket{-} = \\frac{1}{\\sqrt{2}}(\\ket{0} - \\ket{1})\n",
    "$$\n",
    "\n"
   ]
  },
  {
   "cell_type": "markdown",
   "metadata": {},
   "source": [
    "## 2. 测量\n",
    "\n",
    "`<*|`（读作bra）表示一个行向量，`|*>`（读作ket）表示一个列向量。`<*|`和`|*>`的乘积是一个数。这个数就是两个向量的内积。就是一个测量状态。比如`<0|1>`就是0度和180度的内积，结果是0，表示用0度的测量180度的概率为0。再比如，`<+|1>`就是90和180度的内积，结果是1/2，表示用+的测量180度的概率为1/2。\n",
    "\n",
    "\n",
    "### 2.1 Hadamard算子\n",
    "\n",
    "$$\n",
    "H = \\frac{1}{\\sqrt{2}}\\begin{bmatrix} 1 & 1 \\\\ 1 & -1 \\end{bmatrix}\n",
    "$$\n",
    "\n",
    "一个计算的例子，用Hadamard算子对0度进行计算：\n",
    "\n",
    "$$\n",
    "H\\ket{0} = \\frac{1}{\\sqrt{2}}\\begin{bmatrix} 1 & 1 \\\\ 1 & -1 \\end{bmatrix}\\begin{bmatrix} 1 \\\\ 0 \\end{bmatrix} = \\frac{1}{\\sqrt{2}}\\begin{bmatrix} 1 \\\\ 1 \\end{bmatrix} = \\frac{1}{\\sqrt{2}}(\\ket{0} + \\ket{1}) = \\ket{+}\n",
    "$$\n",
    "\n",
    "Hadmard算子可以理解成45度的镜像。\n",
    "\n",
    "正是世界中的QuBit是一个复数，所以我们可以用复数来表示QuBit的状态。这样，我们就需要一个Z轴来表示复数的实部和虚部。\n",
    "\n"
   ]
  },
  {
   "cell_type": "markdown",
   "metadata": {},
   "source": [
    "# 3. QRNG"
   ]
  },
  {
   "cell_type": "code",
   "execution_count": 13,
   "metadata": {},
   "outputs": [],
   "source": [
    "## RNG\n",
    "def rng(seed: int) -> int:\n",
    "    return (seed * 0x5DEECE66D + 0xB) & ((1 << 48) - 1)"
   ]
  },
  {
   "cell_type": "code",
   "execution_count": 17,
   "metadata": {},
   "outputs": [],
   "source": [
    "\n",
    "def qrng():\n",
    "    q = Qubit()\n",
    "    H(q)\n",
    "    return measure(q)"
   ]
  },
  {
   "cell_type": "code",
   "execution_count": 20,
   "metadata": {},
   "outputs": [],
   "source": [
    "from abc import ABCMeta, abstractmethod\n",
    "from contextlib import contextmanager\n",
    "\n",
    "\n",
    "class Qubit(metaclass=ABCMeta):\n",
    "    \n",
    "    @abstractmethod\n",
    "    def h(self):\n",
    "        pass\n",
    "\n",
    "    @abstractmethod\n",
    "    def measure(self) -> bool:\n",
    "        pass\n",
    "\n",
    "    @abstractmethod\n",
    "    def reset(self):\n",
    "        pass\n",
    "\n",
    "\n",
    "class QuantumDevice(metaclass=ABCMeta):\n",
    "    @abstractmethod\n",
    "    def allocate_qubit(self) -> Qubit:\n",
    "        pass\n",
    "\n",
    "    @abstractmethod\n",
    "    def deallocate_qubit(self, qubit: Qubit):\n",
    "        pass\n",
    "\n",
    "    @contextmanager\n",
    "    def using_qubit(self):\n",
    "        qubit = self.allocate_qubit()\n",
    "        try:\n",
    "            yield qubit\n",
    "        finally:\n",
    "            qubit.reset()\n",
    "            self.deallocate_qubit(qubit)\n",
    "            \n",
    "\n",
    "def qrng(device: QuantumDevice) -> bool:\n",
    "    with device.using_qubit() as q:\n",
    "        q.h()\n",
    "        return q.measure()"
   ]
  },
  {
   "cell_type": "code",
   "execution_count": 21,
   "metadata": {},
   "outputs": [],
   "source": [
    "\n",
    "H: np.ndarray[np.int32, np.dtype[np.int32]] = np.array([[1, 1], [1, -1]]) / np.sqrt(2)\n",
    "KET_0: np.ndarray[np.int32, np.dtype[np.int32]] = np.array([[1], [0]])\n",
    "\n",
    "class SimulatedQubit(Qubit):\n",
    "    state: np.ndarray[np.int32, np.dtype[np.int32]]\n",
    "    def __init__(self):\n",
    "        self.reset()\n",
    "\n",
    "    def h(self):\n",
    "        self.state = H @ self.state\n",
    "\n",
    "    def measure(self) -> bool:\n",
    "        pr0 = np.abs(self.state[0, 0]) ** 2\n",
    "        sample = np.random.random() <= pr0\n",
    "        return bool(0 if sample else 1)\n",
    "\n",
    "    def reset(self):\n",
    "        self.state = KET_0.copy()"
   ]
  },
  {
   "cell_type": "code",
   "execution_count": 23,
   "metadata": {},
   "outputs": [],
   "source": [
    "class SingleQubitSimulator(QuantumDevice):\n",
    "    def __init__(self) -> None:\n",
    "        self.qubit = SimulatedQubit()\n",
    "    \n",
    "    def allocate_qubit(self) -> Qubit:\n",
    "        return self.qubit\n",
    "\n",
    "    \n",
    "    def deallocate_qubit(self, qubit: Qubit):\n",
    "        qubit.reset()\n",
    "        self.qubit = qubit\n"
   ]
  },
  {
   "cell_type": "code",
   "execution_count": 24,
   "metadata": {},
   "outputs": [
    {
     "name": "stdout",
     "output_type": "stream",
     "text": [
      "Our QRNG returned False.\n",
      "Our QRNG returned True.\n",
      "Our QRNG returned False.\n",
      "Our QRNG returned True.\n",
      "Our QRNG returned True.\n",
      "Our QRNG returned False.\n",
      "Our QRNG returned True.\n",
      "Our QRNG returned True.\n",
      "Our QRNG returned True.\n",
      "Our QRNG returned True.\n"
     ]
    }
   ],
   "source": [
    "qsim = SingleQubitSimulator()\n",
    "for idx_sample in range(10):\n",
    "    random_sample = qrng(qsim)\n",
    "    print(f\"Our QRNG returned {random_sample}.\")"
   ]
  },
  {
   "cell_type": "code",
   "execution_count": null,
   "metadata": {},
   "outputs": [],
   "source": []
  }
 ],
 "metadata": {
  "kernelspec": {
   "display_name": "Python 3",
   "language": "python",
   "name": "python3"
  },
  "language_info": {
   "codemirror_mode": {
    "name": "ipython",
    "version": 3
   },
   "file_extension": ".py",
   "mimetype": "text/x-python",
   "name": "python",
   "nbconvert_exporter": "python",
   "pygments_lexer": "ipython3",
   "version": "3.12.1"
  }
 },
 "nbformat": 4,
 "nbformat_minor": 2
}
